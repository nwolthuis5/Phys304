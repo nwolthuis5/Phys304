{
 "cells": [
  {
   "cell_type": "code",
   "execution_count": 10,
   "metadata": {},
   "outputs": [
    {
     "name": "stdout",
     "output_type": "stream",
     "text": [
      "pick an integer to find the n value for C_n: 100\n",
      "Here's the float form:  8.965199470901317e+56\n",
      "Here's the integer form:  896519947090131678185430741499021921911623568450622849024\n"
     ]
    }
   ],
   "source": [
    "#Catalan Numbers, Problem 2.13 a\n",
    "n = int(input(\"pick an integer to find the n value for C_n: \"))\n",
    "def Cn(n):\n",
    "    #providing the base value\n",
    "    if n == 0:\n",
    "        return 1\n",
    "    #providing the compounding value thingamajig\n",
    "    else:\n",
    "        return int(((4*n -2)/(n+1)) * Cn(n-1))\n",
    "\n",
    "#Cn(100)\n",
    "print(\"Here's the float form: \",float((Cn(n))))\n",
    "print(\"Here's the integer form: \",Cn(n))"
   ]
  },
  {
   "cell_type": "code",
   "execution_count": null,
   "metadata": {},
   "outputs": [],
   "source": []
  }
 ],
 "metadata": {
  "kernelspec": {
   "display_name": "Python 3",
   "language": "python",
   "name": "python3"
  },
  "language_info": {
   "codemirror_mode": {
    "name": "ipython",
    "version": 3
   },
   "file_extension": ".py",
   "mimetype": "text/x-python",
   "name": "python",
   "nbconvert_exporter": "python",
   "pygments_lexer": "ipython3",
   "version": "3.5.2"
  }
 },
 "nbformat": 4,
 "nbformat_minor": 2
}
