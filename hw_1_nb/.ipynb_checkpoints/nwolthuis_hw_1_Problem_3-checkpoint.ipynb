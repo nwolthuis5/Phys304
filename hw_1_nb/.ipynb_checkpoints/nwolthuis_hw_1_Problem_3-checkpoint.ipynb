{
 "cells": [
  {
   "cell_type": "code",
   "execution_count": 7,
   "metadata": {},
   "outputs": [
    {
     "name": "stdout",
     "output_type": "stream",
     "text": [
      "problem 2.2\n",
      "please input a time for the satalite's orbital period in minutes: 90\n",
      "the height of the satelite is 279321.62537285965 meters\n"
     ]
    }
   ],
   "source": [
    "import numpy as np\n",
    "print('problem 2.2')\n",
    "\n",
    "#Some Gravitational Physics, Problem 2.2\n",
    "T = float(input(\"please input a time for the satalite's orbital period in minutes: \"))\n",
    "\n",
    "#assigning values to constants, SI units\n",
    "M = 5.97 * 10 ** (24)\n",
    "G = 6.67 * 10 ** (-11)\n",
    "R = 6371* 10 ** (3) #meters\n",
    "\n",
    "#derived equation for  above earth's surface\n",
    "h = ((G*M*(T*60)**2)/(4*np.pi**2))**(1/3) - R\n",
    "\n",
    "#printing the height\n",
    "print(\"the height of the satelite is\", h, \"meters\")"
   ]
  },
  {
   "cell_type": "code",
   "execution_count": null,
   "metadata": {},
   "outputs": [],
   "source": []
  }
 ],
 "metadata": {
  "kernelspec": {
   "display_name": "Python 3",
   "language": "python",
   "name": "python3"
  },
  "language_info": {
   "codemirror_mode": {
    "name": "ipython",
    "version": 3
   },
   "file_extension": ".py",
   "mimetype": "text/x-python",
   "name": "python",
   "nbconvert_exporter": "python",
   "pygments_lexer": "ipython3",
   "version": "3.5.2"
  }
 },
 "nbformat": 4,
 "nbformat_minor": 2
}
