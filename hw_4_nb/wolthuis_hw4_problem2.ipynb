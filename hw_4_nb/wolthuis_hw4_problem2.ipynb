{
 "cells": [
  {
   "cell_type": "code",
   "execution_count": 26,
   "metadata": {},
   "outputs": [
    {
     "name": "stdout",
     "output_type": "stream",
     "text": [
      "Problem 5.14\n"
     ]
    }
   ],
   "source": [
    "#importing goodies\n",
    "import functools\n",
    "import numpy as np\n",
    "import math\n",
    "import matplotlib.pyplot as plt\n",
    "from pylab import *\n",
    "from scipy.integrate import dblquad\n",
    "\n",
    "\n",
    "#trying to make it the latex font stuff\n",
    "from matplotlib import rc\n",
    "#rc('font',**{'family':'sans-serif','sans-serif':['Helvetica']})\n",
    "## for Palatino and other serif fonts use:\n",
    "plt.rc('font',**{'family':'serif','serif':['Times New Roman']})\n",
    "plt.rc('text', usetex=True)\n",
    "\n",
    "print(\"Problem 5.14\")\n",
    "\n",
    "#defining some constants for future use\n",
    "G = 6.71 * 10 ** (-11)"
   ]
  },
  {
   "cell_type": "code",
   "execution_count": 52,
   "metadata": {},
   "outputs": [],
   "source": [
    "#computing the force on an object as a function of vertical distance from the center of the plate\n",
    "def F(z):\n",
    "    \n",
    "    #defining the integrand\n",
    "    def f(y, x):\n",
    "        val = 1 / ((x**2 + y**2 + z**2)**(3/2))\n",
    "        return val\n",
    "    \n",
    "    #defining limits of y integration\n",
    "    def ylower(x):\n",
    "        return -5\n",
    "    def yupper(x):\n",
    "        return 5\n",
    "\n",
    "    nt, error = dblquad(f,-5,5,ylower,yupper)\n",
    "    \n",
    "    #defining mass and area\n",
    "    m = 10**4\n",
    "    A = 10 **2\n",
    "    sig = m / A\n",
    "    \n",
    "    #retrieving the value for the function output    \n",
    "    val = G* z * sig* nt\n",
    "    return val"
   ]
  },
  {
   "cell_type": "code",
   "execution_count": 57,
   "metadata": {},
   "outputs": [
    {
     "name": "stderr",
     "output_type": "stream",
     "text": [
      "/packages/python3.6.8/lib/python3.6/site-packages/ipykernel_launcher.py:6: RuntimeWarning: divide by zero encountered in double_scalars\n",
      "  \n",
      "/packages/python3.6.8/lib/python3.6/site-packages/ipykernel_launcher.py:23: RuntimeWarning: invalid value encountered in double_scalars\n"
     ]
    },
    {
     "data": {
      "image/png": "[encoded data removed]",
      "text/plain": [
       "<Figure size 432x288 with 1 Axes>"
      ]
     },
     "metadata": {
      "needs_background": "light"
     },
     "output_type": "display_data"
    }
   ],
   "source": [
    "#making lists for the purpose of plotting the function\n",
    "y = []\n",
    "x = []\n",
    "\n",
    "#looping through the necessary values\n",
    "for i in np.linspace(0, 10,100):\n",
    "    val = F(i)\n",
    "    y.append(val)\n",
    "    x.append(i)\n",
    "    \n",
    "# definitions for the axes\n",
    "left, width = 0.1, 0.65\n",
    "bottom, height = 0.1, 0.65\n",
    "spacing = 0.005\n",
    "\n",
    "#plotting the function\n",
    "plt.plot(x,y , label = \"Gravitational Force Exerted on a Mass\", color = 'k')\n",
    "\n",
    "\n",
    "#Formatting, Labels, & Legends\n",
    "plt.xlabel('Distance in Meters')\n",
    "plt.ylabel('Force in Newtons')\n",
    "plt.title('Force as a Function of Distance from a Plate')\n",
    "plt.legend()\n",
    "\n",
    "#Line of best fit\n",
    "#plt.plot(np.unique(x), np.poly1d(np.polyfit(x, y, 2))(np.unique(x)))\n",
    "\n",
    "plt.show()"
   ]
  },
  {
   "cell_type": "code",
   "execution_count": null,
   "metadata": {},
   "outputs": [],
   "source": []
  }
 ],
 "metadata": {
  "kernelspec": {
   "display_name": "python-3.6.8",
   "language": "python",
   "name": "python-3.6.8"
  },
  "language_info": {
   "codemirror_mode": {
    "name": "ipython",
    "version": 3
   },
   "file_extension": ".py",
   "mimetype": "text/x-python",
   "name": "python",
   "nbconvert_exporter": "python",
   "pygments_lexer": "ipython3",
   "version": "3.6.8"
  }
 },
 "nbformat": 4,
 "nbformat_minor": 2
}
