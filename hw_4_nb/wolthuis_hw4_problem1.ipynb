{
 "cells": [
  {
   "cell_type": "code",
   "execution_count": 5,
   "metadata": {},
   "outputs": [
    {
     "name": "stdout",
     "output_type": "stream",
     "text": [
      "Problem 5.12\n"
     ]
    }
   ],
   "source": [
    "#importing goodies\n",
    "import functools\n",
    "import numpy as np\n",
    "import math\n",
    "import matplotlib.pyplot as plt\n",
    "from wolthuis_hw4_gaussxw import gaussxw\n",
    "\n",
    "#trying to make it the latex font stuff\n",
    "from matplotlib import rc\n",
    "#rc('font',**{'family':'sans-serif','sans-serif':['Helvetica']})\n",
    "## for Palatino and other serif fonts use:\n",
    "plt.rc('font',**{'family':'serif','serif':['Times New Roman']})\n",
    "plt.rc('text', usetex=True)\n",
    "\n",
    "print(\"Problem 5.12\")\n",
    "\n",
    "#units are a social construct\n",
    "#defining some constants for future use\n",
    "hbar = 1.054 * 10 ** (-34) #units of not! eV\n",
    "c = 2.998 * 10 ** 8 #meters per second\n",
    "kb = 1.381 * 10 ** (-23) #units of boltzmann's constant"
   ]
  },
  {
   "cell_type": "code",
   "execution_count": 6,
   "metadata": {},
   "outputs": [],
   "source": [
    "#defining the fuction so that I can integrate it later\n",
    "def f(x):\n",
    "    val = x**3 / (np.exp(x) - 1)\n",
    "    return val\n",
    "\n",
    "#using Z substitution to deal with the 0 to inf range, allowing us to modify it to be from 0 to 1 later\n",
    "def fz(z):\n",
    "    \n",
    "    #defining x in terms of z so that we can call back to the non Z sub function\n",
    "    x = z / (z - 1)\n",
    "    \n",
    "    #shenanigans\n",
    "    val = (1/((1 - z)**2) * f(z / (1 - z)))\n",
    "    return val"
   ]
  },
  {
   "cell_type": "code",
   "execution_count": 7,
   "metadata": {},
   "outputs": [],
   "source": [
    "#Using Gaussian Quadrature to integrate the function\n",
    "def W(T):\n",
    "    #defining parameters of integration\n",
    "    N = 50\n",
    "    a = 0.0\n",
    "    b = 1.0\n",
    "    \n",
    "    #calculating sample points and weights then mapping them onto the domain\n",
    "    x , w  = gaussxw(N)\n",
    "    xp = 0.5*(b-a)*x + 0.5*(b+a)\n",
    "    wp = 0.5*(b-a)*w\n",
    "    \n",
    "    #performing gaussian integration with the \n",
    "    s = 0.0\n",
    "    for i in range(N):\n",
    "        s += wp[i]*fz(xp[i])\n",
    "    \n",
    "    #using the previously calculated integral with the other non-integrated factors to get our output\n",
    "    val = (kb**4)*(T**4)/(4*(np.pi**2)*(c**2)*(hbar**3))*s\n",
    "    return val"
   ]
  },
  {
   "cell_type": "code",
   "execution_count": 8,
   "metadata": {},
   "outputs": [
    {
     "name": "stdout",
     "output_type": "stream",
     "text": [
      "please choose a positive real number for the temperature in Kelvin: 1000\n",
      "The total rate for which energy is dispersed per unit area for all frequencies is 56851.00149278089\n",
      "The Stefan-Boltzmann constant is determined to be approximately 5.685100149278088e-08\n"
     ]
    },
    {
     "name": "stderr",
     "output_type": "stream",
     "text": [
      "/packages/python3.6.8/lib/python3.6/site-packages/ipykernel_launcher.py:3: RuntimeWarning: overflow encountered in exp\n",
      "  This is separate from the ipykernel package so we can avoid doing imports until\n"
     ]
    }
   ],
   "source": [
    "T = float(input(\"please choose a positive real number for the temperature in Kelvin: \"))\n",
    "\n",
    "#defining parameters of integration\n",
    "N = 150\n",
    "a = 0.0\n",
    "b = 1.0\n",
    "    \n",
    "#calculating sample points and weights then mapping them onto the domain\n",
    "x , w  = gaussxw(N)\n",
    "xp = 0.5*(b-a)*x + 0.5*(b+a)\n",
    "wp = 0.5*(b-a)*w\n",
    "    \n",
    "#performing gaussian integration with the Z substitution function made above\n",
    "s = 0.0\n",
    "for i in range(N):\n",
    "    s += wp[i]*fz(xp[i])\n",
    "    \n",
    "#using the previously calculated integral with the other non-integrated factors to get our output\n",
    "val = (kb**4)*(T**4)/(4*(np.pi**2)*(c**2)*(hbar**3))*s\n",
    "    \n",
    "#trying to determine the stefan-boltzmann constant\n",
    "stefbolt = ((kb**4)/(4*(np.pi**2)*(c**2)*(hbar**3)))*s\n",
    "    \n",
    "#returning the output values we want\n",
    "print(\"The total rate for which energy is dispersed per unit area for all frequencies is\", val)\n",
    "print(\"The Stefan-Boltzmann constant is determined to be approximately\", stefbolt)"
   ]
  },
  {
   "cell_type": "code",
   "execution_count": null,
   "metadata": {},
   "outputs": [],
   "source": []
  }
 ],
 "metadata": {
  "kernelspec": {
   "display_name": "python-3.6.8",
   "language": "python",
   "name": "python-3.6.8"
  },
  "language_info": {
   "codemirror_mode": {
    "name": "ipython",
    "version": 3
   },
   "file_extension": ".py",
   "mimetype": "text/x-python",
   "name": "python",
   "nbconvert_exporter": "python",
   "pygments_lexer": "ipython3",
   "version": "3.6.8"
  }
 },
 "nbformat": 4,
 "nbformat_minor": 2
}
