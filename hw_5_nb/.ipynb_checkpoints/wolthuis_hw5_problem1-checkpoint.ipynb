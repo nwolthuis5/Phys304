{
 "cells": [
  {
   "cell_type": "code",
   "execution_count": 1,
   "metadata": {},
   "outputs": [
    {
     "name": "stdout",
     "output_type": "stream",
     "text": [
      "Problem 6.4\n"
     ]
    }
   ],
   "source": [
    "print(\"Problem 6.4\")\n",
    "#importing goodies\n",
    "from numpy import array,empty\n",
    "from numpy.linalg import inv,solve\n",
    "from numpy import copy,dot"
   ]
  },
  {
   "cell_type": "code",
   "execution_count": 4,
   "metadata": {},
   "outputs": [],
   "source": [
    "#building an array for the resistors\n",
    "A = array([ [ 4,-1,-1,-1],\n",
    "            [-1, 3, 0,-1],\n",
    "            [-1, 0, 3,-1],\n",
    "            [-1,-1,-1, 4]], float)\n",
    "\n",
    "#building an array for the output of Ax\n",
    "v = array([ 5, 0, 5, 0],float)\n",
    "#N = len(v)\n",
    "\n",
    "#B=copy(A)\n",
    "#vold=copy(v)\n",
    "\n",
    "## Gaussian elimination\n",
    "#for m in range(N):\n",
    "\n",
    "#    # Divide by the diagonal element\n",
    "#    div = A[m,m]\n",
    "#    A[m,:] /= div\n",
    "#    v[m] /= div\n",
    "\n",
    "#    # Now subtract from the lower rows\n",
    "#    for i in range(m+1,N):\n",
    "#        mult = A[i,m]\n",
    "#        A[i,:] -= mult*A[m,:]\n",
    "#        v[i] -= mult*v[m]\n",
    "\n",
    "# Back Substitution Stuff\n",
    "#x = empty(N,float)\n",
    "#for m in range(N-1,-1,-1):\n",
    "#    x[m] = v[m]\n",
    "#    for i in range(m+1,N):\n",
    "#        x[m] -= A[m,i]*x[i]\n",
    "#\n",
    "#print(x)"
   ]
  },
  {
   "cell_type": "code",
   "execution_count": 6,
   "metadata": {},
   "outputs": [
    {
     "name": "stdout",
     "output_type": "stream",
     "text": [
      "V1 was determined to be 3.000000000000001 Volts\n",
      "V2 was determined to be 1.666666666666667 Volts\n",
      "V3 was determined to be 3.333333333333334 Volts\n",
      "V4 was determined to be 2.000000000000001 Volts\n"
     ]
    }
   ],
   "source": [
    "Answer = solve(A,v)\n",
    "print(\"V1 was determined to be\",Answer[0], \"Volts\")\n",
    "print(\"V2 was determined to be\",Answer[1], \"Volts\")\n",
    "print(\"V3 was determined to be\",Answer[2], \"Volts\")\n",
    "print(\"V4 was determined to be\",Answer[3], \"Volts\")"
   ]
  },
  {
   "cell_type": "code",
   "execution_count": null,
   "metadata": {},
   "outputs": [],
   "source": []
  }
 ],
 "metadata": {
  "kernelspec": {
   "display_name": "python-3.6.8",
   "language": "python",
   "name": "python-3.6.8"
  },
  "language_info": {
   "codemirror_mode": {
    "name": "ipython",
    "version": 3
   },
   "file_extension": ".py",
   "mimetype": "text/x-python",
   "name": "python",
   "nbconvert_exporter": "python",
   "pygments_lexer": "ipython3",
   "version": "3.6.8"
  }
 },
 "nbformat": 4,
 "nbformat_minor": 2
}
