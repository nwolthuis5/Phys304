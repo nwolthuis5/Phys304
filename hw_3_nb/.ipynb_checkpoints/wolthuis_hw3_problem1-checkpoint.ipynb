{
 "cells": [
  {
   "cell_type": "code",
   "execution_count": 1,
   "metadata": {},
   "outputs": [
    {
     "name": "stdout",
     "output_type": "stream",
     "text": [
      "problem 5.3\n"
     ]
    }
   ],
   "source": [
    "#importing goodies\n",
    "import functools\n",
    "import numpy as np\n",
    "import math\n",
    "import matplotlib.pyplot as plt\n",
    "\n",
    "#trying to make it the latex font stuff\n",
    "from matplotlib import rc\n",
    "#rc('font',**{'family':'sans-serif','sans-serif':['Helvetica']})\n",
    "## for Palatino and other serif fonts use:\n",
    "plt.rc('font',**{'family':'serif','serif':['Times New Roman']})\n",
    "plt.rc('text', usetex=True)\n",
    "\n",
    "#letting grader know what problem we're doing\n",
    "print(\"problem 5.3\")"
   ]
  },
  {
   "cell_type": "code",
   "execution_count": 2,
   "metadata": {},
   "outputs": [
    {
     "name": "stdout",
     "output_type": "stream",
     "text": [
      "part a)\n",
      "the function defined in this problem is f(t) = e^(-t^2)\n"
     ]
    }
   ],
   "source": [
    "print(\"part a)\")\n",
    "\n",
    "#defining the function for the following integral\n",
    "print(\"the function defined in this problem is f(t) = e^(-t^2)\")\n",
    "def f(t):\n",
    "    val = np.exp(-t**2)\n",
    "    return val"
   ]
  },
  {
   "cell_type": "code",
   "execution_count": 3,
   "metadata": {},
   "outputs": [
    {
     "name": "stdout",
     "output_type": "stream",
     "text": [
      "the integral is given as the function nw_simp_int(f,a,b,N) if you wish to call it in the future\n"
     ]
    }
   ],
   "source": [
    "print(\"the integral is given as the function nw_simp_int(f,a,b,N) if you wish to call it in the future\")\n",
    "def nw_simp_int(f,a,b,N):\n",
    "    \n",
    "    #definging the number of bins for future looping stuff\n",
    "    h = (b-a)/N\n",
    "    \n",
    "    #making lists for even and odd  values\n",
    "    evnval = []\n",
    "    #evnval = np.array(evnval)\n",
    "    oddval = []\n",
    "    #oddval = np.array(oddval)\n",
    "    \n",
    "    \n",
    "    #beginning the loop with a for - if statement\n",
    "    for i in range(a+1,N):\n",
    "        #setting up an if statement to get seperate odd and even summations\n",
    "        if (i%2) == 0:\n",
    "            evn = float(f(a+(i*h)))\n",
    "            evnval.append(evn)\n",
    "        else:\n",
    "            odd = float(f(a+(i*h)))\n",
    "            oddval.append(odd)\n",
    "    \n",
    "    #using lambda functions to get the summation of the even and the odd values\n",
    "    sumodd = functools.reduce(lambda k,l: k+l, oddval)\n",
    "    #print(sumodd)\n",
    "    sumevn = functools.reduce(lambda k,l: k+l, evnval)\n",
    "    #print(sumevn)\n",
    "    \n",
    "    #getting the final integral values\n",
    "    integral = (h/3)*(f(a) + f(b) + (2*sumodd) + (4*sumevn))\n",
    "    return integral"
   ]
  },
  {
   "cell_type": "code",
   "execution_count": 4,
   "metadata": {},
   "outputs": [
    {
     "name": "stderr",
     "output_type": "stream",
     "text": [
      "findfont: Font family ['serif'] not found. Falling back to DejaVu Sans.\n"
     ]
    },
    {
     "data": {
      "image/png": "[encoded data removed]",
      "text/plain": [
       "<Figure size 432x288 with 1 Axes>"
      ]
     },
     "metadata": {
      "needs_background": "light"
     },
     "output_type": "display_data"
    },
    {
     "name": "stdout",
     "output_type": "stream",
     "text": [
      "due to this graph, the optimal amount of bins seems to be ~ 10000\n"
     ]
    }
   ],
   "source": [
    "yval = []\n",
    "xval = []\n",
    "\n",
    "for i in range(100,20000,100):\n",
    "    value = np.abs(((nw_simp_int(f,0,3,i)) - (math.erf(3) * (.5) * (np.pi) ** (1/2)))/(math.erf(3) * (.5) * (np.pi) ** (1/2)))\n",
    "    yval.append(value)\n",
    "    xval.append(i)\n",
    "\n",
    "#show the plots and stuff\n",
    "plt.plot(xval,yval, label = \"error fraction\", color = 'k')\n",
    "plt.xlabel('x')\n",
    "plt.ylabel('error fraction')\n",
    "plt.title('Error Fraction as Function of Bins')\n",
    "plt.legend()\n",
    "plt.show()\n",
    "print(\"due to this graph, the optimal amount of bins seems to be ~ 10000\")"
   ]
  },
  {
   "cell_type": "code",
   "execution_count": 5,
   "metadata": {},
   "outputs": [
    {
     "name": "stdout",
     "output_type": "stream",
     "text": [
      "please provide a minimum number (a) for which to integrate from: 0\n",
      "please provide a maximum number (b) for which to integrate from: 3\n",
      "please provide a value for the number of bins (N) for the following integral: 10000\n"
     ]
    }
   ],
   "source": [
    "#presenting the maximum, minimum, and width of bins as arguments for the following integral\n",
    "a = int(input(\"please provide a minimum number (a) for which to integrate from: \"))\n",
    "b = int(input(\"please provide a maximum number (b) for which to integrate from: \"))\n",
    "N = int(input(\"please provide a value for the number of bins (N) for the following integral: \"))"
   ]
  },
  {
   "cell_type": "code",
   "execution_count": 6,
   "metadata": {},
   "outputs": [
    {
     "name": "stdout",
     "output_type": "stream",
     "text": [
      "the value of the integral is: 0.8861073359074326\n"
     ]
    }
   ],
   "source": [
    "#defining the number of bins for future looping stuff\n",
    "h = (b-a)/N\n",
    "    \n",
    "#making lists for even and odd  values\n",
    "evnval = []\n",
    "#evnval = np.array(evnval)\n",
    "oddval = []\n",
    "#oddval = np.array(oddval)\n",
    "    \n",
    "    \n",
    "#beginning the loop with a for - if statement\n",
    "for i in range(a+1,N):\n",
    "        \n",
    "    #setting up an if statement to get seperate odd and even summations\n",
    "    if (i%2) == 0:\n",
    "        evn = float(f(a+(i*h)))\n",
    "        evnval.append(evn)\n",
    "    else:\n",
    "        odd = float(f(a+(i*h)))\n",
    "        oddval.append(odd)\n",
    "    \n",
    "#using lambda functions to get the summation of the even and the odd values\n",
    "sumodd = functools.reduce(lambda k,l: k+l, oddval)\n",
    "sumevn = functools.reduce(lambda k,l: k+l, evnval)\n",
    "    \n",
    "#getting the final integral values\n",
    "integral = (h/3)*(f(a) + f(b) + (2*sumodd) + (4*sumevn))\n",
    "print(\"the value of the integral is:\",integral)"
   ]
  },
  {
   "cell_type": "code",
   "execution_count": 7,
   "metadata": {},
   "outputs": [
    {
     "data": {
      "image/png": "[encoded data removed]",
      "text/plain": [
       "<Figure size 432x288 with 1 Axes>"
      ]
     },
     "metadata": {
      "needs_background": "light"
     },
     "output_type": "display_data"
    }
   ],
   "source": [
    "#initializing variable lists\n",
    "Ex = []\n",
    "fx = []\n",
    "tx = []\n",
    "x1 = []\n",
    "x2 = []\n",
    "x3 = []\n",
    "\n",
    "#making lists for the function to be integrated\n",
    "for x in np.linspace(a,b):\n",
    "    fg = f(x)\n",
    "    fx.append(fg)\n",
    "    x1.append(x)\n",
    "\n",
    "#making a list for the integrated value at that point\n",
    "for i in np.linspace(a,b):\n",
    "    E = nw_simp_int(f,a,i,N)\n",
    "    Ex.append(E)\n",
    "    x2.append(i)\n",
    "\n",
    "#testing the erf function from math\n",
    "for i in np.linspace(a,b):\n",
    "    cmpr = math.erf(i) * (.5) * (np.pi)**(1/2)\n",
    "    tx.append(cmpr)\n",
    "    x3.append(i)\n",
    "    \n",
    "#show the plots and stuff\n",
    "plt.plot(x1,fx, label = \"$f(x) = e^{-x^{2}}$\", color = 'c')\n",
    "plt.plot(x2,Ex, label = \"Simpson's $\\int_{0}^{3}f(x)dx$\", linewidth = 5, color = 'k')\n",
    "plt.plot(x3,tx, label = \"Erf(x) thing\", color = 'r')\n",
    "\n",
    "#Formatting, Labels, & Legends\n",
    "plt.ion\n",
    "plt.xlabel('x')\n",
    "plt.ylabel('function of x')\n",
    "plt.title('Integrated Value for Function Over X')\n",
    "plt.legend()\n",
    "plt.show()"
   ]
  },
  {
   "cell_type": "code",
   "execution_count": null,
   "metadata": {},
   "outputs": [],
   "source": []
  }
 ],
 "metadata": {
  "kernelspec": {
   "display_name": "python-3.6.8",
   "language": "python",
   "name": "python-3.6.8"
  },
  "language_info": {
   "codemirror_mode": {
    "name": "ipython",
    "version": 3
   },
   "file_extension": ".py",
   "mimetype": "text/x-python",
   "name": "python",
   "nbconvert_exporter": "python",
   "pygments_lexer": "ipython3",
   "version": "3.6.8"
  }
 },
 "nbformat": 4,
 "nbformat_minor": 2
}
