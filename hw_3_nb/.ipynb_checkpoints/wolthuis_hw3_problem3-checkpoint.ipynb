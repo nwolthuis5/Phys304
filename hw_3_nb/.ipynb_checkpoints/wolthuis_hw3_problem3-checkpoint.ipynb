{
 "cells": [
  {
   "cell_type": "code",
   "execution_count": 14,
   "metadata": {},
   "outputs": [
    {
     "name": "stdout",
     "output_type": "stream",
     "text": [
      "problem 5.9\n"
     ]
    }
   ],
   "source": [
    "#importing goodies\n",
    "import functools\n",
    "import numpy as np\n",
    "import math\n",
    "import matplotlib.pyplot as plt\n",
    "import pylab as pl\n",
    "\n",
    "#trying to make it the latex font stuff\n",
    "from matplotlib import rc\n",
    "#rc('font',**{'family':'sans-serif','sans-serif':['Helvetica']})\n",
    "## for Palatino and other serif fonts use:\n",
    "plt.rc('font',**{'family':'serif','serif':['Times New Roman']})\n",
    "plt.rc('text', usetex=True)\n",
    "\n",
    "#letting grader know what problem we're doing\n",
    "print(\"problem 5.9\")\n",
    "\n",
    "from wolthuis_hw3_gaussxw import gaussxw"
   ]
  },
  {
   "cell_type": "code",
   "execution_count": 48,
   "metadata": {},
   "outputs": [],
   "source": [
    "def cv(T):\n",
    "    \n",
    "    #setting up constants\n",
    "    kb = 1.38064852 * 10 ** (-23)\n",
    "    rho = 6.022 * 10 ** (28)\n",
    "    thd = 428\n",
    "    V = 10 ** (-3)\n",
    "    \n",
    "    #defining the function to be integrated\n",
    "    def f(x):\n",
    "        val = ((x**4)*(np.exp(x))) / ((np.exp(x) - 1)**2)\n",
    "        return val\n",
    "    \n",
    "    #deining parameters of integration\n",
    "    N = 50\n",
    "    a = 0.0\n",
    "    b = thd / T\n",
    "    \n",
    "    #calculating sample points and weights then mapping them onto the domain\n",
    "    x , w  = gaussxw(N)\n",
    "    xp = 0.5*(b-a)*x + 0.5*(b+a)\n",
    "    wp = 0.5*(b-a)*w\n",
    "    \n",
    "    #performing gaussian integration\n",
    "    s = 0.0\n",
    "    for i in range(N):\n",
    "        s += wp[i]*f(xp[i])\n",
    "        \n",
    "    \n",
    "    #making the values\n",
    "    val = 9 * V * rho * kb * (T/thd)**3 * (s)\n",
    "    return val"
   ]
  },
  {
   "cell_type": "code",
   "execution_count": 50,
   "metadata": {},
   "outputs": [
    {
     "name": "stdout",
     "output_type": "stream",
     "text": [
      "the value of the integral from 5 to 500 K is: 2404.925728528575\n"
     ]
    }
   ],
   "source": [
    "print(\"the value of the integral from 5 to 500 K is:\",cv(500) - cv(5))"
   ]
  },
  {
   "cell_type": "code",
   "execution_count": 46,
   "metadata": {},
   "outputs": [
    {
     "data": {
      "image/png": "[encoded data removed]",
      "text/plain": [
       "<Figure size 432x288 with 1 Axes>"
      ]
     },
     "metadata": {
      "needs_background": "light"
     },
     "output_type": "display_data"
    }
   ],
   "source": [
    "#making lists for graphs\n",
    "y = []\n",
    "x = []\n",
    "\n",
    "#making for loops\n",
    "for i in np.linspace(5,500):\n",
    "    val = cv(i)\n",
    "    y.append(val)\n",
    "    x.append(i)\n",
    "\n",
    "#plotting things please\n",
    "\n",
    "# definitions for the axes\n",
    "left, width = 0.1, 0.65\n",
    "bottom, height = 0.1, 0.65\n",
    "spacing = 0.005\n",
    "\n",
    "#plotting the function\n",
    "plt.plot(x,y , label = \"Cv(T)\", color = 'k')\n",
    "\n",
    "\n",
    "#Formatting, Labels, & Legends\n",
    "plt.xlabel('Temperature K')\n",
    "plt.ylabel('Heat Capacity')\n",
    "plt.title('Heat Capacity as a Function of Temperature')\n",
    "plt.legend()\n",
    "\n",
    "#Line of best fit\n",
    "#plt.plot(np.unique(x), np.poly1d(np.polyfit(x, y, 1))(np.unique(x)))\n",
    "\n",
    "plt.show()"
   ]
  },
  {
   "cell_type": "code",
   "execution_count": null,
   "metadata": {},
   "outputs": [],
   "source": []
  }
 ],
 "metadata": {
  "kernelspec": {
   "display_name": "python-3.6.8",
   "language": "python",
   "name": "python-3.6.8"
  },
  "language_info": {
   "codemirror_mode": {
    "name": "ipython",
    "version": 3
   },
   "file_extension": ".py",
   "mimetype": "text/x-python",
   "name": "python",
   "nbconvert_exporter": "python",
   "pygments_lexer": "ipython3",
   "version": "3.6.8"
  }
 },
 "nbformat": 4,
 "nbformat_minor": 2
}
