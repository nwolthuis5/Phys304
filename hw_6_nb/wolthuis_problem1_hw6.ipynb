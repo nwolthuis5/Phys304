{
 "cells": [
  {
   "cell_type": "code",
   "execution_count": 18,
   "metadata": {},
   "outputs": [
    {
     "name": "stdout",
     "output_type": "stream",
     "text": [
      "problem 6.13\n"
     ]
    }
   ],
   "source": [
    "print('problem 6.13')\n",
    "import numpy as np\n",
    "#defining the constants we want to use\n",
    "kB = 1.380649 * 10 ** (-23)\n",
    "c  = 2.997924 * 10 ** (8.0)\n",
    "h  = 6.626070 * 10 ** (-34)\n",
    "\n",
    "#defining the nonlinear function we will solve for\n",
    "def f(x):\n",
    "    val = 5 * np.exp(-x) + x - 5\n",
    "    return val"
   ]
  },
  {
   "cell_type": "code",
   "execution_count": 7,
   "metadata": {},
   "outputs": [
    {
     "name": "stdout",
     "output_type": "stream",
     "text": [
      "the binary search method gives x =  4.96511447429657 as a root of the function\n"
     ]
    }
   ],
   "source": [
    "#defining the accuracy\n",
    "accuracy = 10 ** (-6)\n",
    "r1 = 2.\n",
    "r2 = 5.\n",
    "\n",
    "#setting up the while loop\n",
    "delta = np.abs(r1 - r2)\n",
    "while abs(delta)>accuracy:\n",
    "    rp = (r1 + r2)/2\n",
    "    if f(rp) > 0:\n",
    "        r2 = rp\n",
    "        delta = np.abs(r1 - r2)\n",
    "    else:\n",
    "        r1 = rp\n",
    "        delta = np.abs(r1 - r2)\n",
    "root1 = .5*(r1 + r2)\n",
    "print('the binary search method gives x = ', root1, 'as a root of the function')"
   ]
  },
  {
   "cell_type": "code",
   "execution_count": 8,
   "metadata": {},
   "outputs": [
    {
     "name": "stdout",
     "output_type": "stream",
     "text": [
      "the Newton method gives x = 4.965114284435989 as a root of the function\n"
     ]
    }
   ],
   "source": [
    "r2 = 10\n",
    "    \n",
    "delta = 1\n",
    "while abs(delta)>accuracy:\n",
    "    #derivative of f\n",
    "    delta = f(r2)*(-5 * np.exp(-r2) + 1)\n",
    "    #moving values along\n",
    "    r2 -= delta\n",
    "root2 = r2\n",
    "print('the Newton method gives x =',root2, 'as a root of the function')"
   ]
  },
  {
   "cell_type": "code",
   "execution_count": 17,
   "metadata": {},
   "outputs": [
    {
     "name": "stdout",
     "output_type": "stream",
     "text": [
      "the difference between the binary and Newton search methods is 1.8986058059056177e-07 , which is lower than our epsilon value\n"
     ]
    }
   ],
   "source": [
    "print(\"the difference between the binary and Newton search methods is\",root1-root2, \", which is lower than our epsilon value\")"
   ]
  },
  {
   "cell_type": "code",
   "execution_count": 21,
   "metadata": {},
   "outputs": [
    {
     "name": "stdout",
     "output_type": "stream",
     "text": [
      "the calculated value for Wien's Displacement Constant, b, is: 2.8977714642141605  x 10^(-3)\n"
     ]
    }
   ],
   "source": [
    "x =4.965114\n",
    "b = (h * c) / (kB * x)\n",
    "print(\"the calculated value for Wien's Displacement Constant, b, is:\", b * 10**(3),\" x 10^(-3)\")"
   ]
  },
  {
   "cell_type": "code",
   "execution_count": null,
   "metadata": {},
   "outputs": [],
   "source": []
  }
 ],
 "metadata": {
  "kernelspec": {
   "display_name": "python-3.6.8",
   "language": "python",
   "name": "python-3.6.8"
  },
  "language_info": {
   "codemirror_mode": {
    "name": "ipython",
    "version": 3
   },
   "file_extension": ".py",
   "mimetype": "text/x-python",
   "name": "python",
   "nbconvert_exporter": "python",
   "pygments_lexer": "ipython3",
   "version": "3.6.8"
  }
 },
 "nbformat": 4,
 "nbformat_minor": 2
}
