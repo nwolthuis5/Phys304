{
 "cells": [
  {
   "cell_type": "code",
   "execution_count": 1,
   "metadata": {},
   "outputs": [
    {
     "name": "stdout",
     "output_type": "stream",
     "text": [
      "problem 6.16\n"
     ]
    }
   ],
   "source": [
    "#Huge collaboration points to Katharine Bancroft\n",
    "print(\"problem 6.16\")\n",
    "#defining constants\n",
    "accuracy = 10\n",
    "G = 6.674 * 10 ** (-11) #m**3 kg **(-1) * s ** (-2)\n",
    "M = 5.974 * 10 ** 24 #kg\n",
    "m = 7.348 * 10 ** 22 #kg\n",
    "R = 3.844 * 10 ** 8 #m\n",
    "Rearth = 6.371 * 10 **6\n",
    "Rmoon = 1.7371 * 10 **6\n",
    "omega = 2.662 * 10 ** (-6) #s ** (-1)"
   ]
  },
  {
   "cell_type": "code",
   "execution_count": 2,
   "metadata": {},
   "outputs": [],
   "source": [
    "#setting up the function\n",
    "def f(r):    \n",
    "    val = (G*M)/(r**2) - (G*m)/((R-r)**2) - (r * omega ** 2)\n",
    "    return val"
   ]
  },
  {
   "cell_type": "code",
   "execution_count": 9,
   "metadata": {},
   "outputs": [
    {
     "name": "stdout",
     "output_type": "stream",
     "text": [
      " the lagrange point is 3.260450716653646 * 10^(8) meters\n"
     ]
    }
   ],
   "source": [
    "r1 = R - Rearth - Rmoon\n",
    "r2 = Rearth\n",
    "    \n",
    "delta = 100\n",
    "while abs(delta)>accuracy:\n",
    "    #derivative of f\n",
    "    delta = f(r2)*(r2-r1)/(f(r2)-f(r1))\n",
    "    #moving values along\n",
    "    r1 = r2\n",
    "    r2 -= delta\n",
    "print(\" the lagrange point is\",r2 * 10**(-8),\"* 10^(8) meters\")"
   ]
  },
  {
   "cell_type": "code",
   "execution_count": null,
   "metadata": {},
   "outputs": [],
   "source": []
  }
 ],
 "metadata": {
  "kernelspec": {
   "display_name": "python-3.6.8",
   "language": "python",
   "name": "python-3.6.8"
  },
  "language_info": {
   "codemirror_mode": {
    "name": "ipython",
    "version": 3
   },
   "file_extension": ".py",
   "mimetype": "text/x-python",
   "name": "python",
   "nbconvert_exporter": "python",
   "pygments_lexer": "ipython3",
   "version": "3.6.8"
  }
 },
 "nbformat": 4,
 "nbformat_minor": 2
}
