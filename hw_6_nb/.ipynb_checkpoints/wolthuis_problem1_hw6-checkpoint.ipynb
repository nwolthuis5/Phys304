{
 "cells": [
  {
   "cell_type": "code",
   "execution_count": 4,
   "metadata": {},
   "outputs": [],
   "source": [
    "import numpy as np\n",
    "def f(x):\n",
    "    val = 5 * np.exp(-x) + x - 5\n",
    "    return val"
   ]
  },
  {
   "cell_type": "code",
   "execution_count": 15,
   "metadata": {},
   "outputs": [
    {
     "name": "stdout",
     "output_type": "stream",
     "text": [
      "the binary search method gives x =  4.96511447429657 as a root of the fucntion\n"
     ]
    }
   ],
   "source": [
    "#defining the accuracy\n",
    "accuracy = 10 ** (-6)\n",
    "r1 = 2.\n",
    "r2 = 5.\n",
    "\n",
    "#setting up the while loop\n",
    "delta = np.abs(r1 - r2)\n",
    "while abs(delta)>accuracy:\n",
    "    rp = (r1 + r2)/2\n",
    "    if f(rp) > 0:\n",
    "        r2 = rp\n",
    "        delta = np.abs(r1 - r2)\n",
    "    else:\n",
    "        r1 = rp\n",
    "        delta = np.abs(r1 - r2)\n",
    "root = .5*(r1 + r2)\n",
    "print('the binary search method gives x = ', root, 'as a root of the fucntion')"
   ]
  },
  {
   "cell_type": "code",
   "execution_count": 14,
   "metadata": {},
   "outputs": [
    {
     "name": "stdout",
     "output_type": "stream",
     "text": [
      "the Newton method gives x = 4.965114284435989 as a root of the function\n"
     ]
    }
   ],
   "source": [
    "r2 = 10\n",
    "    \n",
    "delta = 1\n",
    "while abs(delta)>accuracy:\n",
    "    #derivative of f\n",
    "    delta = f(r2)*(-5 * np.exp(-r2) + 1)\n",
    "    #moving values along\n",
    "    r2 -= delta\n",
    "root = r2\n",
    "print('the Newton method gives x =',root, 'as a root of the function')"
   ]
  },
  {
   "cell_type": "code",
   "execution_count": null,
   "metadata": {},
   "outputs": [],
   "source": []
  }
 ],
 "metadata": {
  "kernelspec": {
   "display_name": "python-3.6.8",
   "language": "python",
   "name": "python-3.6.8"
  },
  "language_info": {
   "codemirror_mode": {
    "name": "ipython",
    "version": 3
   },
   "file_extension": ".py",
   "mimetype": "text/x-python",
   "name": "python",
   "nbconvert_exporter": "python",
   "pygments_lexer": "ipython3",
   "version": "3.6.8"
  }
 },
 "nbformat": 4,
 "nbformat_minor": 2
}
